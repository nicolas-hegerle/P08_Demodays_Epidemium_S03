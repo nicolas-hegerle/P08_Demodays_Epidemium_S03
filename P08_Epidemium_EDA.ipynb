{
 "cells": [
  {
   "cell_type": "markdown",
   "metadata": {},
   "source": [
    "# Project 08: Epidemium - Exploratory Data Analysis\n",
    "## Bloc n°6 - Jedha - dsmft - Paris14\n",
    "### Joseph Abitbol & Nicolas Hegerle"
   ]
  },
  {
   "cell_type": "markdown",
   "metadata": {},
   "source": [
    "## Library imports"
   ]
  },
  {
   "cell_type": "code",
   "execution_count": 7,
   "metadata": {},
   "outputs": [],
   "source": [
    "#import the necessary libraries\n",
    "import pandas as pd\n",
    "pd.set_option('display.max_columns', None)\n",
    "pd.set_option('display.max_rows', None)\n",
    "pd.options.mode.chained_assignment = None\n",
    "\n",
    "import plotly.express as px\n",
    "import seaborn as sns\n",
    "sns.set_theme(style = 'darkgrid')\n",
    "import matplotlib.pyplot as plt"
   ]
  },
  {
   "cell_type": "code",
   "execution_count": 8,
   "metadata": {},
   "outputs": [
    {
     "name": "stdout",
     "output_type": "stream",
     "text": [
      "Shape and head of the dataframe:\n",
      "\n",
      "Dataset has 52 rows and 17 columns.\n"
     ]
    },
    {
     "data": {
      "text/html": [
       "<div>\n",
       "<style scoped>\n",
       "    .dataframe tbody tr th:only-of-type {\n",
       "        vertical-align: middle;\n",
       "    }\n",
       "\n",
       "    .dataframe tbody tr th {\n",
       "        vertical-align: top;\n",
       "    }\n",
       "\n",
       "    .dataframe thead th {\n",
       "        text-align: right;\n",
       "    }\n",
       "</style>\n",
       "<table border=\"1\" class=\"dataframe\">\n",
       "  <thead>\n",
       "    <tr style=\"text-align: right;\">\n",
       "      <th></th>\n",
       "      <th>id</th>\n",
       "      <th>OMS</th>\n",
       "      <th>sexe (0=F 1=M)</th>\n",
       "      <th>DDN</th>\n",
       "      <th>Date biopsie</th>\n",
       "      <th>Age au diag</th>\n",
       "      <th>Deces Code</th>\n",
       "      <th>Code recidive</th>\n",
       "      <th>localisation</th>\n",
       "      <th>RNAscope</th>\n",
       "      <th>T</th>\n",
       "      <th>N</th>\n",
       "      <th>M</th>\n",
       "      <th>Tabac</th>\n",
       "      <th>Alcool</th>\n",
       "      <th>Data</th>\n",
       "      <th>OS</th>\n",
       "    </tr>\n",
       "  </thead>\n",
       "  <tbody>\n",
       "    <tr>\n",
       "      <th>0</th>\n",
       "      <td>abf1b4</td>\n",
       "      <td>1</td>\n",
       "      <td>1</td>\n",
       "      <td>1954-06-17</td>\n",
       "      <td>2013-08-10</td>\n",
       "      <td>59</td>\n",
       "      <td>0</td>\n",
       "      <td>0</td>\n",
       "      <td>Oropharynx</td>\n",
       "      <td>2</td>\n",
       "      <td>4</td>\n",
       "      <td>2b</td>\n",
       "      <td>0</td>\n",
       "      <td>3</td>\n",
       "      <td>1</td>\n",
       "      <td>Image + clinical</td>\n",
       "      <td>84</td>\n",
       "    </tr>\n",
       "    <tr>\n",
       "      <th>1</th>\n",
       "      <td>a5969b</td>\n",
       "      <td>1</td>\n",
       "      <td>1</td>\n",
       "      <td>1937-02-09</td>\n",
       "      <td>2014-09-06</td>\n",
       "      <td>77</td>\n",
       "      <td>1</td>\n",
       "      <td>0</td>\n",
       "      <td>Oropharynx</td>\n",
       "      <td>1</td>\n",
       "      <td>4</td>\n",
       "      <td>2c</td>\n",
       "      <td>1</td>\n",
       "      <td>2</td>\n",
       "      <td>1</td>\n",
       "      <td>Image + clinical</td>\n",
       "      <td>24</td>\n",
       "    </tr>\n",
       "    <tr>\n",
       "      <th>2</th>\n",
       "      <td>aa21da</td>\n",
       "      <td>1</td>\n",
       "      <td>1</td>\n",
       "      <td>1968-04-09</td>\n",
       "      <td>2013-03-12</td>\n",
       "      <td>44</td>\n",
       "      <td>0</td>\n",
       "      <td>0</td>\n",
       "      <td>Oropharynx</td>\n",
       "      <td>2</td>\n",
       "      <td>3</td>\n",
       "      <td>3</td>\n",
       "      <td>0</td>\n",
       "      <td>3</td>\n",
       "      <td>1</td>\n",
       "      <td>Image + clinical</td>\n",
       "      <td>47</td>\n",
       "    </tr>\n",
       "    <tr>\n",
       "      <th>3</th>\n",
       "      <td>b075a7</td>\n",
       "      <td>1</td>\n",
       "      <td>1</td>\n",
       "      <td>1947-02-10</td>\n",
       "      <td>2014-11-08</td>\n",
       "      <td>67</td>\n",
       "      <td>1</td>\n",
       "      <td>0</td>\n",
       "      <td>Oropharynx</td>\n",
       "      <td>1</td>\n",
       "      <td>2</td>\n",
       "      <td>2c</td>\n",
       "      <td>0</td>\n",
       "      <td>2</td>\n",
       "      <td>1</td>\n",
       "      <td>Image + clinical</td>\n",
       "      <td>9</td>\n",
       "    </tr>\n",
       "    <tr>\n",
       "      <th>4</th>\n",
       "      <td>b2e232</td>\n",
       "      <td>1</td>\n",
       "      <td>1</td>\n",
       "      <td>1942-08-03</td>\n",
       "      <td>2014-04-23</td>\n",
       "      <td>71</td>\n",
       "      <td>0</td>\n",
       "      <td>1</td>\n",
       "      <td>Oropharynx</td>\n",
       "      <td>1</td>\n",
       "      <td>4</td>\n",
       "      <td>2b</td>\n",
       "      <td>1</td>\n",
       "      <td>2</td>\n",
       "      <td>0</td>\n",
       "      <td>Image + clinical</td>\n",
       "      <td>37</td>\n",
       "    </tr>\n",
       "  </tbody>\n",
       "</table>\n",
       "</div>"
      ],
      "text/plain": [
       "       id  OMS  sexe (0=F 1=M)        DDN Date biopsie  Age au diag  \\\n",
       "0  abf1b4    1               1 1954-06-17   2013-08-10           59   \n",
       "1  a5969b    1               1 1937-02-09   2014-09-06           77   \n",
       "2  aa21da    1               1 1968-04-09   2013-03-12           44   \n",
       "3  b075a7    1               1 1947-02-10   2014-11-08           67   \n",
       "4  b2e232    1               1 1942-08-03   2014-04-23           71   \n",
       "\n",
       "  Deces Code  Code recidive localisation  RNAscope  T   N  M  Tabac  Alcool  \\\n",
       "0          0              0   Oropharynx         2  4  2b  0      3       1   \n",
       "1          1              0   Oropharynx         1  4  2c  1      2       1   \n",
       "2          0              0   Oropharynx         2  3   3  0      3       1   \n",
       "3          1              0   Oropharynx         1  2  2c  0      2       1   \n",
       "4          0              1   Oropharynx         1  4  2b  1      2       0   \n",
       "\n",
       "               Data  OS  \n",
       "0  Image + clinical  84  \n",
       "1  Image + clinical  24  \n",
       "2  Image + clinical  47  \n",
       "3  Image + clinical   9  \n",
       "4  Image + clinical  37  "
      ]
     },
     "metadata": {},
     "output_type": "display_data"
    }
   ],
   "source": [
    "#load the train data for verification\n",
    "data = pd.read_csv(\"raw_data/avatarsV2_train.csv\", parse_dates=[3,4,6])\n",
    "\n",
    "print(\"Shape and head of the dataframe:\\n\")\n",
    "print(\"Dataset has {} rows and {} columns.\".format(data.shape[0], data.shape[1]))\n",
    "display(data.head())\n"
   ]
  },
  {
   "cell_type": "markdown",
   "metadata": {},
   "source": [
    "### <ins>Description of the features / target:  </ins>\n",
    "\n",
    "**<ins><font size = \"4\">Features:</font></ins>**\n",
    "\n",
    "-  **<ins>OMS (integer):</ins>** score for the general condition of the patient. OMS ∈ [0,4]. the higher the score the worse the condition. \n",
    "-  **<ins>Sexe (encoded):</ins>** 1=male or 0=female. \n",
    "-  **<ins>ddn (date):</ins>** date of birth. \n",
    "-  **<ins>date biospsie (date):</ins>** date of the biopsy. \n",
    "-  **<ins>age au diag (integer):</ins>** age of the patient at the time of the diagnostic. \n",
    "-  **<ins>deces code (encoded):</ins>** whether the patient died or not  \n",
    "-  **<ins>code recidive (encoded):</ins>** recurrence of the cancer or not  \n",
    "-  **<ins>localisation (string):</ins>** localization of the cancer. In our case only **```Oropharynx```**.\n",
    "-  **<ins>rnascope (integer):</ins>** quantitative evaluation score for HPV E6/E7 oncoprotein expression. RNA_scope ∈ [0,2]\n",
    "-  **<ins>t (integer):</ins>** **```Tumor```**. T ∈ [1,4]. T ∈ [1,2] <=> small tumor, T ∈ [3,4] <=> large tumor\n",
    "-  **<ins>n (integer):</ins>** **```Node```**. Cervical metastatic nodes. N ∈ [0,3]. 0 = no lymph nodes invaded. 3 > 1 for lymph node invasion **```CLARIFY 2a, 2b, 2c```**\n",
    "-  **<ins>m (encoded):</ins>** Distant **```Metastasis```** to another organ. Yes = 1 / No = 0. \n",
    "-  **<ins>tabac (integer):</ins>** Tabac ∈ [0,3]. Score correlated to frequence of smoking. 0 = none smoker, 1 <=> Score ∈ ]0, 10[ , 2 <=> Score ∈ [10, 20[ , **```CLARIFY 3 > 30?```**\n",
    "-  **<ins>alcool (encoded):</ins>** Yes = 1 or No = 0\n",
    "-  **<ins>data (string):</ins>** data available for the study\n",
    "\n",
    "**<ins><font size = \"4\">Target value:</font></ins>**\n",
    "\n",
    "-  **<ins>OS (integer):</ins>** **```Overall survival```** in months from date of diagnosis to the date of last news / death \n"
   ]
  },
  {
   "cell_type": "code",
   "execution_count": 9,
   "metadata": {},
   "outputs": [
    {
     "data": {
      "text/html": [
       "<div>\n",
       "<style scoped>\n",
       "    .dataframe tbody tr th:only-of-type {\n",
       "        vertical-align: middle;\n",
       "    }\n",
       "\n",
       "    .dataframe tbody tr th {\n",
       "        vertical-align: top;\n",
       "    }\n",
       "\n",
       "    .dataframe thead th {\n",
       "        text-align: right;\n",
       "    }\n",
       "</style>\n",
       "<table border=\"1\" class=\"dataframe\">\n",
       "  <thead>\n",
       "    <tr style=\"text-align: right;\">\n",
       "      <th></th>\n",
       "      <th>id</th>\n",
       "      <th>oms</th>\n",
       "      <th>sexe</th>\n",
       "      <th>ddn</th>\n",
       "      <th>date_biopsie</th>\n",
       "      <th>age_au_diag</th>\n",
       "      <th>deces_code</th>\n",
       "      <th>code_recidive</th>\n",
       "      <th>localisation</th>\n",
       "      <th>rnascope</th>\n",
       "      <th>t</th>\n",
       "      <th>n</th>\n",
       "      <th>m</th>\n",
       "      <th>tabac</th>\n",
       "      <th>alcool</th>\n",
       "      <th>data</th>\n",
       "      <th>os</th>\n",
       "    </tr>\n",
       "  </thead>\n",
       "  <tbody>\n",
       "    <tr>\n",
       "      <th>0</th>\n",
       "      <td>abf1b4</td>\n",
       "      <td>1</td>\n",
       "      <td>1</td>\n",
       "      <td>1954-06-17</td>\n",
       "      <td>2013-08-10</td>\n",
       "      <td>59</td>\n",
       "      <td>0</td>\n",
       "      <td>0</td>\n",
       "      <td>Oropharynx</td>\n",
       "      <td>2</td>\n",
       "      <td>4</td>\n",
       "      <td>2b</td>\n",
       "      <td>0</td>\n",
       "      <td>3</td>\n",
       "      <td>1</td>\n",
       "      <td>Image + clinical</td>\n",
       "      <td>84</td>\n",
       "    </tr>\n",
       "    <tr>\n",
       "      <th>1</th>\n",
       "      <td>a5969b</td>\n",
       "      <td>1</td>\n",
       "      <td>1</td>\n",
       "      <td>1937-02-09</td>\n",
       "      <td>2014-09-06</td>\n",
       "      <td>77</td>\n",
       "      <td>1</td>\n",
       "      <td>0</td>\n",
       "      <td>Oropharynx</td>\n",
       "      <td>1</td>\n",
       "      <td>4</td>\n",
       "      <td>2c</td>\n",
       "      <td>1</td>\n",
       "      <td>2</td>\n",
       "      <td>1</td>\n",
       "      <td>Image + clinical</td>\n",
       "      <td>24</td>\n",
       "    </tr>\n",
       "    <tr>\n",
       "      <th>2</th>\n",
       "      <td>aa21da</td>\n",
       "      <td>1</td>\n",
       "      <td>1</td>\n",
       "      <td>1968-04-09</td>\n",
       "      <td>2013-03-12</td>\n",
       "      <td>44</td>\n",
       "      <td>0</td>\n",
       "      <td>0</td>\n",
       "      <td>Oropharynx</td>\n",
       "      <td>2</td>\n",
       "      <td>3</td>\n",
       "      <td>3</td>\n",
       "      <td>0</td>\n",
       "      <td>3</td>\n",
       "      <td>1</td>\n",
       "      <td>Image + clinical</td>\n",
       "      <td>47</td>\n",
       "    </tr>\n",
       "    <tr>\n",
       "      <th>3</th>\n",
       "      <td>b075a7</td>\n",
       "      <td>1</td>\n",
       "      <td>1</td>\n",
       "      <td>1947-02-10</td>\n",
       "      <td>2014-11-08</td>\n",
       "      <td>67</td>\n",
       "      <td>1</td>\n",
       "      <td>0</td>\n",
       "      <td>Oropharynx</td>\n",
       "      <td>1</td>\n",
       "      <td>2</td>\n",
       "      <td>2c</td>\n",
       "      <td>0</td>\n",
       "      <td>2</td>\n",
       "      <td>1</td>\n",
       "      <td>Image + clinical</td>\n",
       "      <td>9</td>\n",
       "    </tr>\n",
       "    <tr>\n",
       "      <th>4</th>\n",
       "      <td>b2e232</td>\n",
       "      <td>1</td>\n",
       "      <td>1</td>\n",
       "      <td>1942-08-03</td>\n",
       "      <td>2014-04-23</td>\n",
       "      <td>71</td>\n",
       "      <td>0</td>\n",
       "      <td>1</td>\n",
       "      <td>Oropharynx</td>\n",
       "      <td>1</td>\n",
       "      <td>4</td>\n",
       "      <td>2b</td>\n",
       "      <td>1</td>\n",
       "      <td>2</td>\n",
       "      <td>0</td>\n",
       "      <td>Image + clinical</td>\n",
       "      <td>37</td>\n",
       "    </tr>\n",
       "  </tbody>\n",
       "</table>\n",
       "</div>"
      ],
      "text/plain": [
       "       id  oms  sexe        ddn date_biopsie  age_au_diag deces_code  \\\n",
       "0  abf1b4    1     1 1954-06-17   2013-08-10           59          0   \n",
       "1  a5969b    1     1 1937-02-09   2014-09-06           77          1   \n",
       "2  aa21da    1     1 1968-04-09   2013-03-12           44          0   \n",
       "3  b075a7    1     1 1947-02-10   2014-11-08           67          1   \n",
       "4  b2e232    1     1 1942-08-03   2014-04-23           71          0   \n",
       "\n",
       "   code_recidive localisation  rnascope  t   n  m  tabac  alcool  \\\n",
       "0              0   Oropharynx         2  4  2b  0      3       1   \n",
       "1              0   Oropharynx         1  4  2c  1      2       1   \n",
       "2              0   Oropharynx         2  3   3  0      3       1   \n",
       "3              0   Oropharynx         1  2  2c  0      2       1   \n",
       "4              1   Oropharynx         1  4  2b  1      2       0   \n",
       "\n",
       "               data  os  \n",
       "0  Image + clinical  84  \n",
       "1  Image + clinical  24  \n",
       "2  Image + clinical  47  \n",
       "3  Image + clinical   9  \n",
       "4  Image + clinical  37  "
      ]
     },
     "metadata": {},
     "output_type": "display_data"
    }
   ],
   "source": [
    "# lets change a few things in the dataframe\n",
    "data.rename(columns = {col:col.lower().replace(' ', '_') for col in data.columns}, inplace = True)\n",
    "data.rename(columns = {'sexe_(0=f_1=m)': 'sexe'}, inplace=True)\n",
    "display(data.head())"
   ]
  },
  {
   "cell_type": "code",
   "execution_count": 10,
   "metadata": {},
   "outputs": [
    {
     "name": "stdout",
     "output_type": "stream",
     "text": [
      "\n",
      "Information about the dataset:\n",
      "\n",
      "<class 'pandas.core.frame.DataFrame'>\n",
      "RangeIndex: 52 entries, 0 to 51\n",
      "Data columns (total 17 columns):\n",
      " #   Column         Non-Null Count  Dtype         \n",
      "---  ------         --------------  -----         \n",
      " 0   id             52 non-null     object        \n",
      " 1   oms            52 non-null     int64         \n",
      " 2   sexe           52 non-null     int64         \n",
      " 3   ddn            52 non-null     datetime64[ns]\n",
      " 4   date_biopsie   52 non-null     datetime64[ns]\n",
      " 5   age_au_diag    52 non-null     int64         \n",
      " 6   deces_code     52 non-null     int64         \n",
      " 7   code_recidive  52 non-null     int64         \n",
      " 8   localisation   52 non-null     object        \n",
      " 9   rnascope       52 non-null     int64         \n",
      " 10  t              52 non-null     int64         \n",
      " 11  n              52 non-null     object        \n",
      " 12  m              52 non-null     int64         \n",
      " 13  tabac          52 non-null     int64         \n",
      " 14  alcool         52 non-null     int64         \n",
      " 15  data           52 non-null     object        \n",
      " 16  os             52 non-null     int64         \n",
      "dtypes: datetime64[ns](2), int64(11), object(4)\n",
      "memory usage: 7.0+ KB\n"
     ]
    },
    {
     "data": {
      "text/plain": [
       "None"
      ]
     },
     "metadata": {},
     "output_type": "display_data"
    }
   ],
   "source": [
    "print(\"\\nInformation about the dataset:\\n\")\n",
    "data = data.astype({'deces_code': 'int64'}) # change deces_code to int\n",
    "display(data.info())"
   ]
  },
  {
   "cell_type": "markdown",
   "metadata": {},
   "source": [
    "\n",
    "* <font size = 5>No missing values apparently"
   ]
  },
  {
   "cell_type": "code",
   "execution_count": 11,
   "metadata": {},
   "outputs": [
    {
     "name": "stdout",
     "output_type": "stream",
     "text": [
      "\n",
      " Description of the target value:\n",
      "\n"
     ]
    },
    {
     "data": {
      "text/plain": [
       "count    52.000000\n",
       "mean     50.250000\n",
       "std      23.210778\n",
       "min       6.000000\n",
       "25%      33.250000\n",
       "50%      55.500000\n",
       "75%      68.250000\n",
       "max      89.000000\n",
       "Name: os, dtype: float64"
      ]
     },
     "execution_count": 11,
     "metadata": {},
     "output_type": "execute_result"
    }
   ],
   "source": [
    "print(\"\\n Description of the target value:\\n\")\n",
    "data[\"os\"].describe()"
   ]
  },
  {
   "cell_type": "code",
   "execution_count": 12,
   "metadata": {},
   "outputs": [
    {
     "data": {
      "image/png": "[encoded data removed]",
      "text/plain": [
       "<Figure size 720x72 with 1 Axes>"
      ]
     },
     "metadata": {},
     "output_type": "display_data"
    }
   ],
   "source": [
    "# lets see that visually\n",
    "\n",
    "plt.figure(figsize = (10, 1))\n",
    "plt.xticks(rotation=0)\n",
    "b = sns.boxplot(data = data, x = 'os')\n",
    "b.axes.set_title(\"Boxplot of OSs\",fontsize=30)\n",
    "plt.show()\n",
    "#plt.savefig(\"OS_boxplot.png\", dpi = 300)"
   ]
  },
  {
   "cell_type": "code",
   "execution_count": 13,
   "metadata": {},
   "outputs": [
    {
     "data": {
      "image/png": "[encoded data removed]",
      "text/plain": [
       "<Figure size 720x720 with 1 Axes>"
      ]
     },
     "metadata": {},
     "output_type": "display_data"
    }
   ],
   "source": [
    "# plot the distribution of the target value\n",
    "\n",
    "plt.figure(figsize = (10, 10))\n",
    "plt.xticks(rotation=0)\n",
    "plt.ylim(0, 4)\n",
    "\n",
    "b = sns.histplot(data = data, x = 'os', discrete = True, kde = True, bins = len(data['os'].unique()))\n",
    "\n",
    "b.axes.set_title(\"Distribution des OS\",fontsize=30)\n",
    "b.set_xlabel(\"OS\",fontsize=20, labelpad = 10)\n",
    "b.set_ylabel(\"Nombre de représentant\",fontsize=20)\n",
    "b.tick_params(labelsize=15)\n",
    "\n",
    "#plt.savefig(\"OS_distri.png\", dpi = 300)"
   ]
  },
  {
   "cell_type": "code",
   "execution_count": 14,
   "metadata": {},
   "outputs": [
    {
     "name": "stdout",
     "output_type": "stream",
     "text": [
      "                     os\n",
      "oms            0.203717\n",
      "sexe           0.393827\n",
      "age_au_diag    0.181993\n",
      "deces_code     0.694220\n",
      "code_recidive  0.390761\n",
      "rnascope       0.252384\n",
      "t              0.045445\n",
      "m              0.350133\n",
      "tabac          0.331408\n",
      "alcool         0.006279\n",
      "os             1.000000\n"
     ]
    },
    {
     "data": {
      "application/vnd.plotly.v1+json": {
       "config": {
        "plotlyServerURL": "https://plot.ly"
       },
       "data": [
        {
         "coloraxis": "coloraxis",
         "hovertemplate": "x: %{x}<br>y: %{y}<br>color: %{z}<extra></extra>",
         "name": "0",
         "type": "heatmap",
         "x": [
          "os"
         ],
         "xaxis": "x",
         "y": [
          "oms",
          "sexe",
          "age_au_diag",
          "deces_code",
          "code_recidive",
          "rnascope",
          "t",
          "m",
          "tabac",
          "alcool",
          "os"
         ],
         "yaxis": "y",
         "z": [
          [
           -0.20371700766359457
          ],
          [
           -0.39382653217677854
          ],
          [
           -0.18199271514136384
          ],
          [
           -0.6942198575731838
          ],
          [
           -0.39076120878271514
          ],
          [
           0.25238378579702164
          ],
          [
           -0.045444537469045025
          ],
          [
           -0.3501325682042571
          ],
          [
           -0.33140794007987334
          ],
          [
           0.0062792283240732955
          ],
          [
           1
          ]
         ]
        }
       ],
       "layout": {
        "coloraxis": {
         "colorscale": [
          [
           0,
           "#0d0887"
          ],
          [
           0.1111111111111111,
           "#46039f"
          ],
          [
           0.2222222222222222,
           "#7201a8"
          ],
          [
           0.3333333333333333,
           "#9c179e"
          ],
          [
           0.4444444444444444,
           "#bd3786"
          ],
          [
           0.5555555555555556,
           "#d8576b"
          ],
          [
           0.6666666666666666,
           "#ed7953"
          ],
          [
           0.7777777777777778,
           "#fb9f3a"
          ],
          [
           0.8888888888888888,
           "#fdca26"
          ],
          [
           1,
           "#f0f921"
          ]
         ]
        },
        "margin": {
         "t": 60
        },
        "template": {
         "data": {
          "bar": [
           {
            "error_x": {
             "color": "#2a3f5f"
            },
            "error_y": {
             "color": "#2a3f5f"
            },
            "marker": {
             "line": {
              "color": "#E5ECF6",
              "width": 0.5
             },
             "pattern": {
              "fillmode": "overlay",
              "size": 10,
              "solidity": 0.2
             }
            },
            "type": "bar"
           }
          ],
          "barpolar": [
           {
            "marker": {
             "line": {
              "color": "#E5ECF6",
              "width": 0.5
             },
             "pattern": {
              "fillmode": "overlay",
              "size": 10,
              "solidity": 0.2
             }
            },
            "type": "barpolar"
           }
          ],
          "carpet": [
           {
            "aaxis": {
             "endlinecolor": "#2a3f5f",
             "gridcolor": "white",
             "linecolor": "white",
             "minorgridcolor": "white",
             "startlinecolor": "#2a3f5f"
            },
            "baxis": {
             "endlinecolor": "#2a3f5f",
             "gridcolor": "white",
             "linecolor": "white",
             "minorgridcolor": "white",
             "startlinecolor": "#2a3f5f"
            },
            "type": "carpet"
           }
          ],
          "choropleth": [
           {
            "colorbar": {
             "outlinewidth": 0,
             "ticks": ""
            },
            "type": "choropleth"
           }
          ],
          "contour": [
           {
            "colorbar": {
             "outlinewidth": 0,
             "ticks": ""
            },
            "colorscale": [
             [
              0,
              "#0d0887"
             ],
             [
              0.1111111111111111,
              "#46039f"
             ],
             [
              0.2222222222222222,
              "#7201a8"
             ],
             [
              0.3333333333333333,
              "#9c179e"
             ],
             [
              0.4444444444444444,
              "#bd3786"
             ],
             [
              0.5555555555555556,
              "#d8576b"
             ],
             [
              0.6666666666666666,
              "#ed7953"
             ],
             [
              0.7777777777777778,
              "#fb9f3a"
             ],
             [
              0.8888888888888888,
              "#fdca26"
             ],
             [
              1,
              "#f0f921"
             ]
            ],
            "type": "contour"
           }
          ],
          "contourcarpet": [
           {
            "colorbar": {
             "outlinewidth": 0,
             "ticks": ""
            },
            "type": "contourcarpet"
           }
          ],
          "heatmap": [
           {
            "colorbar": {
             "outlinewidth": 0,
             "ticks": ""
            },
            "colorscale": [
             [
              0,
              "#0d0887"
             ],
             [
              0.1111111111111111,
              "#46039f"
             ],
             [
              0.2222222222222222,
              "#7201a8"
             ],
             [
              0.3333333333333333,
              "#9c179e"
             ],
             [
              0.4444444444444444,
              "#bd3786"
             ],
             [
              0.5555555555555556,
              "#d8576b"
             ],
             [
              0.6666666666666666,
              "#ed7953"
             ],
             [
              0.7777777777777778,
              "#fb9f3a"
             ],
             [
              0.8888888888888888,
              "#fdca26"
             ],
             [
              1,
              "#f0f921"
             ]
            ],
            "type": "heatmap"
           }
          ],
          "heatmapgl": [
           {
            "colorbar": {
             "outlinewidth": 0,
             "ticks": ""
            },
            "colorscale": [
             [
              0,
              "#0d0887"
             ],
             [
              0.1111111111111111,
              "#46039f"
             ],
             [
              0.2222222222222222,
              "#7201a8"
             ],
             [
              0.3333333333333333,
              "#9c179e"
             ],
             [
              0.4444444444444444,
              "#bd3786"
             ],
             [
              0.5555555555555556,
              "#d8576b"
             ],
             [
              0.6666666666666666,
              "#ed7953"
             ],
             [
              0.7777777777777778,
              "#fb9f3a"
             ],
             [
              0.8888888888888888,
              "#fdca26"
             ],
             [
              1,
              "#f0f921"
             ]
            ],
            "type": "heatmapgl"
           }
          ],
          "histogram": [
           {
            "marker": {
             "pattern": {
              "fillmode": "overlay",
              "size": 10,
              "solidity": 0.2
             }
            },
            "type": "histogram"
           }
          ],
          "histogram2d": [
           {
            "colorbar": {
             "outlinewidth": 0,
             "ticks": ""
            },
            "colorscale": [
             [
              0,
              "#0d0887"
             ],
             [
              0.1111111111111111,
              "#46039f"
             ],
             [
              0.2222222222222222,
              "#7201a8"
             ],
             [
              0.3333333333333333,
              "#9c179e"
             ],
             [
              0.4444444444444444,
              "#bd3786"
             ],
             [
              0.5555555555555556,
              "#d8576b"
             ],
             [
              0.6666666666666666,
              "#ed7953"
             ],
             [
              0.7777777777777778,
              "#fb9f3a"
             ],
             [
              0.8888888888888888,
              "#fdca26"
             ],
             [
              1,
              "#f0f921"
             ]
            ],
            "type": "histogram2d"
           }
          ],
          "histogram2dcontour": [
           {
            "colorbar": {
             "outlinewidth": 0,
             "ticks": ""
            },
            "colorscale": [
             [
              0,
              "#0d0887"
             ],
             [
              0.1111111111111111,
              "#46039f"
             ],
             [
              0.2222222222222222,
              "#7201a8"
             ],
             [
              0.3333333333333333,
              "#9c179e"
             ],
             [
              0.4444444444444444,
              "#bd3786"
             ],
             [
              0.5555555555555556,
              "#d8576b"
             ],
             [
              0.6666666666666666,
              "#ed7953"
             ],
             [
              0.7777777777777778,
              "#fb9f3a"
             ],
             [
              0.8888888888888888,
              "#fdca26"
             ],
             [
              1,
              "#f0f921"
             ]
            ],
            "type": "histogram2dcontour"
           }
          ],
          "mesh3d": [
           {
            "colorbar": {
             "outlinewidth": 0,
             "ticks": ""
            },
            "type": "mesh3d"
           }
          ],
          "parcoords": [
           {
            "line": {
             "colorbar": {
              "outlinewidth": 0,
              "ticks": ""
             }
            },
            "type": "parcoords"
           }
          ],
          "pie": [
           {
            "automargin": true,
            "type": "pie"
           }
          ],
          "scatter": [
           {
            "marker": {
             "colorbar": {
              "outlinewidth": 0,
              "ticks": ""
             }
            },
            "type": "scatter"
           }
          ],
          "scatter3d": [
           {
            "line": {
             "colorbar": {
              "outlinewidth": 0,
              "ticks": ""
             }
            },
            "marker": {
             "colorbar": {
              "outlinewidth": 0,
              "ticks": ""
             }
            },
            "type": "scatter3d"
           }
          ],
          "scattercarpet": [
           {
            "marker": {
             "colorbar": {
              "outlinewidth": 0,
              "ticks": ""
             }
            },
            "type": "scattercarpet"
           }
          ],
          "scattergeo": [
           {
            "marker": {
             "colorbar": {
              "outlinewidth": 0,
              "ticks": ""
             }
            },
            "type": "scattergeo"
           }
          ],
          "scattergl": [
           {
            "marker": {
             "colorbar": {
              "outlinewidth": 0,
              "ticks": ""
             }
            },
            "type": "scattergl"
           }
          ],
          "scattermapbox": [
           {
            "marker": {
             "colorbar": {
              "outlinewidth": 0,
              "ticks": ""
             }
            },
            "type": "scattermapbox"
           }
          ],
          "scatterpolar": [
           {
            "marker": {
             "colorbar": {
              "outlinewidth": 0,
              "ticks": ""
             }
            },
            "type": "scatterpolar"
           }
          ],
          "scatterpolargl": [
           {
            "marker": {
             "colorbar": {
              "outlinewidth": 0,
              "ticks": ""
             }
            },
            "type": "scatterpolargl"
           }
          ],
          "scatterternary": [
           {
            "marker": {
             "colorbar": {
              "outlinewidth": 0,
              "ticks": ""
             }
            },
            "type": "scatterternary"
           }
          ],
          "surface": [
           {
            "colorbar": {
             "outlinewidth": 0,
             "ticks": ""
            },
            "colorscale": [
             [
              0,
              "#0d0887"
             ],
             [
              0.1111111111111111,
              "#46039f"
             ],
             [
              0.2222222222222222,
              "#7201a8"
             ],
             [
              0.3333333333333333,
              "#9c179e"
             ],
             [
              0.4444444444444444,
              "#bd3786"
             ],
             [
              0.5555555555555556,
              "#d8576b"
             ],
             [
              0.6666666666666666,
              "#ed7953"
             ],
             [
              0.7777777777777778,
              "#fb9f3a"
             ],
             [
              0.8888888888888888,
              "#fdca26"
             ],
             [
              1,
              "#f0f921"
             ]
            ],
            "type": "surface"
           }
          ],
          "table": [
           {
            "cells": {
             "fill": {
              "color": "#EBF0F8"
             },
             "line": {
              "color": "white"
             }
            },
            "header": {
             "fill": {
              "color": "#C8D4E3"
             },
             "line": {
              "color": "white"
             }
            },
            "type": "table"
           }
          ]
         },
         "layout": {
          "annotationdefaults": {
           "arrowcolor": "#2a3f5f",
           "arrowhead": 0,
           "arrowwidth": 1
          },
          "autotypenumbers": "strict",
          "coloraxis": {
           "colorbar": {
            "outlinewidth": 0,
            "ticks": ""
           }
          },
          "colorscale": {
           "diverging": [
            [
             0,
             "#8e0152"
            ],
            [
             0.1,
             "#c51b7d"
            ],
            [
             0.2,
             "#de77ae"
            ],
            [
             0.3,
             "#f1b6da"
            ],
            [
             0.4,
             "#fde0ef"
            ],
            [
             0.5,
             "#f7f7f7"
            ],
            [
             0.6,
             "#e6f5d0"
            ],
            [
             0.7,
             "#b8e186"
            ],
            [
             0.8,
             "#7fbc41"
            ],
            [
             0.9,
             "#4d9221"
            ],
            [
             1,
             "#276419"
            ]
           ],
           "sequential": [
            [
             0,
             "#0d0887"
            ],
            [
             0.1111111111111111,
             "#46039f"
            ],
            [
             0.2222222222222222,
             "#7201a8"
            ],
            [
             0.3333333333333333,
             "#9c179e"
            ],
            [
             0.4444444444444444,
             "#bd3786"
            ],
            [
             0.5555555555555556,
             "#d8576b"
            ],
            [
             0.6666666666666666,
             "#ed7953"
            ],
            [
             0.7777777777777778,
             "#fb9f3a"
            ],
            [
             0.8888888888888888,
             "#fdca26"
            ],
            [
             1,
             "#f0f921"
            ]
           ],
           "sequentialminus": [
            [
             0,
             "#0d0887"
            ],
            [
             0.1111111111111111,
             "#46039f"
            ],
            [
             0.2222222222222222,
             "#7201a8"
            ],
            [
             0.3333333333333333,
             "#9c179e"
            ],
            [
             0.4444444444444444,
             "#bd3786"
            ],
            [
             0.5555555555555556,
             "#d8576b"
            ],
            [
             0.6666666666666666,
             "#ed7953"
            ],
            [
             0.7777777777777778,
             "#fb9f3a"
            ],
            [
             0.8888888888888888,
             "#fdca26"
            ],
            [
             1,
             "#f0f921"
            ]
           ]
          },
          "colorway": [
           "#636efa",
           "#EF553B",
           "#00cc96",
           "#ab63fa",
           "#FFA15A",
           "#19d3f3",
           "#FF6692",
           "#B6E880",
           "#FF97FF",
           "#FECB52"
          ],
          "font": {
           "color": "#2a3f5f"
          },
          "geo": {
           "bgcolor": "white",
           "lakecolor": "white",
           "landcolor": "#E5ECF6",
           "showlakes": true,
           "showland": true,
           "subunitcolor": "white"
          },
          "hoverlabel": {
           "align": "left"
          },
          "hovermode": "closest",
          "mapbox": {
           "style": "light"
          },
          "paper_bgcolor": "white",
          "plot_bgcolor": "#E5ECF6",
          "polar": {
           "angularaxis": {
            "gridcolor": "white",
            "linecolor": "white",
            "ticks": ""
           },
           "bgcolor": "#E5ECF6",
           "radialaxis": {
            "gridcolor": "white",
            "linecolor": "white",
            "ticks": ""
           }
          },
          "scene": {
           "xaxis": {
            "backgroundcolor": "#E5ECF6",
            "gridcolor": "white",
            "gridwidth": 2,
            "linecolor": "white",
            "showbackground": true,
            "ticks": "",
            "zerolinecolor": "white"
           },
           "yaxis": {
            "backgroundcolor": "#E5ECF6",
            "gridcolor": "white",
            "gridwidth": 2,
            "linecolor": "white",
            "showbackground": true,
            "ticks": "",
            "zerolinecolor": "white"
           },
           "zaxis": {
            "backgroundcolor": "#E5ECF6",
            "gridcolor": "white",
            "gridwidth": 2,
            "linecolor": "white",
            "showbackground": true,
            "ticks": "",
            "zerolinecolor": "white"
           }
          },
          "shapedefaults": {
           "line": {
            "color": "#2a3f5f"
           }
          },
          "ternary": {
           "aaxis": {
            "gridcolor": "white",
            "linecolor": "white",
            "ticks": ""
           },
           "baxis": {
            "gridcolor": "white",
            "linecolor": "white",
            "ticks": ""
           },
           "bgcolor": "#E5ECF6",
           "caxis": {
            "gridcolor": "white",
            "linecolor": "white",
            "ticks": ""
           }
          },
          "title": {
           "x": 0.05
          },
          "xaxis": {
           "automargin": true,
           "gridcolor": "white",
           "linecolor": "white",
           "ticks": "",
           "title": {
            "standoff": 15
           },
           "zerolinecolor": "white",
           "zerolinewidth": 2
          },
          "yaxis": {
           "automargin": true,
           "gridcolor": "white",
           "linecolor": "white",
           "ticks": "",
           "title": {
            "standoff": 15
           },
           "zerolinecolor": "white",
           "zerolinewidth": 2
          }
         }
        },
        "width": 600,
        "xaxis": {
         "anchor": "y",
         "constrain": "domain",
         "domain": [
          0,
          1
         ],
         "scaleanchor": "y"
        },
        "yaxis": {
         "anchor": "x",
         "autorange": "reversed",
         "constrain": "domain",
         "domain": [
          0,
          1
         ]
        }
       }
      }
     },
     "metadata": {},
     "output_type": "display_data"
    }
   ],
   "source": [
    "# check correlation betwwen features and target\n",
    "to_keep = \"os\"\n",
    "corr_df = data.corr().drop([col for col in data.columns if (data[col].dtype == 'int64') & (col != to_keep)], axis = 1)\n",
    "print(abs(corr_df))\n",
    "#Show a little correlation matrix of the data in the dataset\n",
    "px.imshow(corr_df, width = 600)"
   ]
  },
  {
   "cell_type": "code",
   "execution_count": 15,
   "metadata": {},
   "outputs": [
    {
     "data": {
      "image/png": "[encoded data removed]",
      "text/plain": [
       "<Figure size 720x720 with 1 Axes>"
      ]
     },
     "metadata": {},
     "output_type": "display_data"
    }
   ],
   "source": [
    "plt.figure(figsize = (10, 10))\n",
    "plt.xticks(rotation=0)\n",
    "\n",
    "b = sns.histplot(data = data, x = 'os', hue = 'deces_code', kde=True)\n",
    "b.axes.set_title(\"Distribution des deces par score OS et par 'outcome'\",fontsize=30)\n",
    "b.set_xlabel(\"OS\",fontsize=20, labelpad = 10)\n",
    "b.set_ylabel(\"Nombre de deces\",fontsize=20)\n",
    "b.tick_params(labelsize=15)\n",
    "plt.show()"
   ]
  },
  {
   "cell_type": "code",
   "execution_count": 16,
   "metadata": {},
   "outputs": [
    {
     "data": {
      "image/png": "[encoded data removed]",
      "text/plain": [
       "<Figure size 720x720 with 1 Axes>"
      ]
     },
     "metadata": {},
     "output_type": "display_data"
    }
   ],
   "source": [
    "plt.figure(figsize = (10, 10))\n",
    "plt.xticks(rotation=0)\n",
    "\n",
    "b = sns.histplot(data = data, x = 'os', hue = 'sexe', kde=True)\n",
    "b.axes.set_title(\"Distribution des deces par score OS et par sexe\",fontsize=30)\n",
    "b.set_xlabel(\"OS\",fontsize=20, labelpad = 10)\n",
    "b.set_ylabel(\"Nombre de deces\",fontsize=20)\n",
    "b.tick_params(labelsize=15)\n",
    "plt.show()"
   ]
  },
  {
   "cell_type": "code",
   "execution_count": 17,
   "metadata": {},
   "outputs": [
    {
     "data": {
      "image/png": "[encoded data removed]",
      "text/plain": [
       "<Figure size 720x720 with 1 Axes>"
      ]
     },
     "metadata": {},
     "output_type": "display_data"
    }
   ],
   "source": [
    "plt.figure(figsize = (10, 10))\n",
    "plt.xticks(rotation=0)\n",
    "\n",
    "b = sns.histplot(data = data, x = 'os', hue = 'code_recidive', kde=True)\n",
    "b.axes.set_title(\"Distribution des deces par score OS et recidive\",fontsize=30)\n",
    "b.set_xlabel(\"OS\",fontsize=20, labelpad = 10)\n",
    "b.set_ylabel(\"Nombre de deces\",fontsize=20)\n",
    "b.tick_params(labelsize=15)\n",
    "plt.show()"
   ]
  },
  {
   "cell_type": "code",
   "execution_count": null,
   "metadata": {},
   "outputs": [],
   "source": []
  }
 ],
 "metadata": {
  "interpreter": {
   "hash": "b3bcc9d6d5689eb93fd607a819b4d17597ccd318a9046f8daab5c08e0a354b76"
  },
  "kernelspec": {
   "display_name": "Python 3.9.7 64-bit ('epidemium': conda)",
   "language": "python",
   "name": "python3"
  },
  "language_info": {
   "codemirror_mode": {
    "name": "ipython",
    "version": 3
   },
   "file_extension": ".py",
   "mimetype": "text/x-python",
   "name": "python",
   "nbconvert_exporter": "python",
   "pygments_lexer": "ipython3",
   "version": "3.8.12"
  },
  "orig_nbformat": 4
 },
 "nbformat": 4,
 "nbformat_minor": 2
}
